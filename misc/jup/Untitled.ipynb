{
 "cells": [
  {
   "cell_type": "code",
   "execution_count": 1,
   "metadata": {},
   "outputs": [],
   "source": [
    "import numpy as np\n",
    "from sklearn.model_selection import KFold"
   ]
  },
  {
   "cell_type": "code",
   "execution_count": 2,
   "metadata": {},
   "outputs": [
    {
     "name": "stdout",
     "output_type": "stream",
     "text": [
      "train_index: [2 3 4 5 6 7 8 9] test_index: [0 1]\n",
      "train_index: [0 1 4 5 6 7 8 9] test_index: [2 3]\n",
      "train_index: [0 1 2 3 6 7 8 9] test_index: [4 5]\n",
      "train_index: [0 1 2 3 4 5 8 9] test_index: [6 7]\n",
      "train_index: [0 1 2 3 4 5 6 7] test_index: [8 9]\n"
     ]
    }
   ],
   "source": [
    "\n",
    "x = np.array([[1, 2], [3, 4], [1, 2], [3, 4], [3, 4], [3, 4], [3, 4], [3, 4], [3, 4], [3, 4]])\n",
    "y = np.array([0, 0, 1, 1, 1, 1, 1, 1, 1, 1])\n",
    "\n",
    "kf = KFold(n_splits=5)\n",
    "for train_index, test_index in kf.split(x, y):\n",
    "    print(\"train_index:\", train_index, \"test_index:\", test_index)"
   ]
  },
  {
   "cell_type": "code",
   "execution_count": null,
   "metadata": {},
   "outputs": [],
   "source": []
  }
 ],
 "metadata": {
  "kernelspec": {
   "display_name": "Python 3",
   "language": "python",
   "name": "python3"
  },
  "language_info": {
   "codemirror_mode": {
    "name": "ipython",
    "version": 3
   },
   "file_extension": ".py",
   "mimetype": "text/x-python",
   "name": "python",
   "nbconvert_exporter": "python",
   "pygments_lexer": "ipython3",
   "version": "3.8.5"
  }
 },
 "nbformat": 4,
 "nbformat_minor": 4
}
